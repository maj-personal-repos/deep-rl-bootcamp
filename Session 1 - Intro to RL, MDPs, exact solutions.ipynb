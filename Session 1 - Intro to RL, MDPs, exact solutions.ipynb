{
 "cells": [
  {
   "cell_type": "markdown",
   "metadata": {
    "slideshow": {
     "slide_type": "slide"
    }
   },
   "source": [
    "# Introduction to RL, MDPs, and exact solutions\n",
    "## Deep RL Bootcamp - Florida International University\n",
    "### Miguel Alonso Jr - Associate Professor of Computer Science\n",
    "October 2019"
   ]
  },
  {
   "cell_type": "markdown",
   "metadata": {
    "slideshow": {
     "slide_type": "slide"
    }
   },
   "source": [
    "# Logistics\n",
    "\n",
    "* Laptop setup - see [Deep RL ](https://github.com/drmaj/Deep-RL-Docker-Setup)\n",
    "* Register on the [Moodle](https://moodle.cis.fiu.edu/v3.1/login/index.php) course\n",
    "* Register on [Jupyter Hub](https://drlbc.cs.fiu.edu)\n",
    "* Keep your laptops charged!\n",
    "* 2 - 2hr sessions per day - 5 days"
   ]
  },
  {
   "cell_type": "markdown",
   "metadata": {
    "slideshow": {
     "slide_type": "slide"
    }
   },
   "source": [
    "# Goals\n",
    "\n",
    "After completing this course, students will be able to:\n",
    "1. Master fundamental concepts in Deep RL;\n",
    "2. Master problems to which Deep RL can be applied;\n",
    "3. Demonstrate various Deep RL solutions for Model-free and Model-based problems;\n",
    "4. Demonstrate state-of-the-art methods in Deep RL from scratch;\n",
    "5. Demonstrate the ability to solve machine learning problems in new domains using Deep RL."
   ]
  },
  {
   "cell_type": "markdown",
   "metadata": {
    "slideshow": {
     "slide_type": "slide"
    }
   },
   "source": [
    "# Bootcamp Schedule\n",
    "\n",
    "| Day | Date       | Session |                             Description                             |                 Materials                 |\n",
    "|:---:|------------|:-------:|:-------------------------------------------------------------------:|:-----------------------------------------:|\n",
    "|  1  | 10/24/2019 |    1    |             Introduction to RL, MDPs and Exact Solutions            | S1 Jupyter Notebook, Deep RL Docker Setup |\n",
    "|     |            |    2    |                        Intro to Deep Learning                       |            S2 Jupyter Notebook            |\n",
    "|  2  | 10/31/2019 |    3    |      Model-free - Value-based methods - Deep Q-Learning and DQN     |            S3 Jupyter Notebook            |\n",
    "|     |            |    4    | Model-free - Policy Gradient methods - Proximal Policy Optimization |             S4 Jupter Notebook            |\n",
    "|  3  | 11/7/2019  |    5    |                  Model-based Methods - Deep Dyna-Q                  |            S5 Jupyter Notebook            |\n",
    "|     |            |    6    |         Deep RL in Online Settings - Deep Contextual Bandits        |            S6 Jupyter Notebook            |\n",
    "|  4  | 11/14/2019 |    7    |        Partially Observable MDPs - Deep Recurrent Q-Learning        |            S7 Juptyer Notebook            |\n",
    "|     |            |    8    |                              Inverse RL                             |            S8 Jupyter Notebook            |\n",
    "|  5  | 11/21/2019 |    9    |                           Case Study: TBD                           |            S9 Jupyter Notebook            |\n",
    "|     |            |    10   |                           Case Study: TBD                           |            S10 Jupyter Notebook           |\n"
   ]
  },
  {
   "cell_type": "markdown",
   "metadata": {
    "slideshow": {
     "slide_type": "slide"
    }
   },
   "source": [
    "# Markov Decision Processes\n",
    "\n",
    "![markov decision process](http://billy-inn.github.io/images/rl1.1.png)\n",
    "(Source: Sutton and Barto, Reinforcment Learing: An Introduction )"
   ]
  },
  {
   "cell_type": "markdown",
   "metadata": {
    "slideshow": {
     "slide_type": "slide"
    }
   },
   "source": [
    "# Formal Definition of MDP\n",
    "\n",
    "An MDP is a tuple $(S, A, {P_sa}, \\gamma, R)$, where:\n",
    "* $S$ is a set of states, $S \\in \\{s_0, s_1, \\dots s_m\\}$\n",
    "* $A$ is a set of actions, $A \\in \\{a_0, a_1, \\dots a_m\\}$\n",
    "* $P_{a}(s, s')$ are the state transition probabilities given an action $a$.\n",
    "* $\\gamma$  is called the discount factor, and controls the influence of future rewards in the present, and is on the interval $[0, 1]$\n",
    "* $R:S \\times A \\mapsto \\mathbb{R}$ is the **reward function**, which returns a real value every time the agent moves from one state to the other due to an action.\n",
    "* $H$ is the time horizon (can be finite or infinite)"
   ]
  },
  {
   "cell_type": "markdown",
   "metadata": {
    "slideshow": {
     "slide_type": "slide"
    }
   },
   "source": [
    "# MDP Key Points\n",
    "\n",
    "* For each state $s \\in S$ and action $a \\in A$, $P_{sa}$ is a probability distribution over the state space. $P_{sa}$ gives the distribution over what states the system will transition to if action $a$ is taken when the system is in state $s$.\n",
    "*  $\\{\\gamma \\in \\mathbb{R} \\hspace{1mm}| \\hspace{1mm}0 \\leq \\gamma \\leq 1\\}$ \n",
    "* Sometimes the reward function is written as a function of the state only, $R:S \\mapsto \\mathbb{R}$\n",
    "* The reward function can be written as $R(s, a, s')$"
   ]
  },
  {
   "cell_type": "markdown",
   "metadata": {
    "slideshow": {
     "slide_type": "slide"
    }
   },
   "source": [
    "# Example MDP: Gridworld\n",
    "Simple gridworld from Artificial Intelligence: A modern approach - Russel and Norvig"
   ]
  },
  {
   "cell_type": "code",
   "execution_count": 1,
   "metadata": {
    "scrolled": true
   },
   "outputs": [
    {
     "data": {
      "text/plain": [
       "(4, 12)"
      ]
     },
     "execution_count": 1,
     "metadata": {},
     "output_type": "execute_result"
    }
   ],
   "source": [
    "import gym # import openai gym\n",
    "import gridworldsgym # import gridworldsgym - see: https://github.com/drmaj/gridworldsgym\n",
    "from gridworldsgym.envs import gridworld\n",
    "\n",
    "# make gridworld environment\n",
    "env = gym.make('GridWorld-v0')\n",
    "# print number of states and actions\n",
    "env.num_actions, env.num_states"
   ]
  },
  {
   "cell_type": "markdown",
   "metadata": {
    "slideshow": {
     "slide_type": "slide"
    }
   },
   "source": [
    "# Example MDP: Gridworld"
   ]
  },
  {
   "cell_type": "code",
   "execution_count": 2,
   "metadata": {},
   "outputs": [
    {
     "data": {
      "image/png": "[encoded data removed]",
      "text/plain": [
       "<Figure size 522x522 with 1 Axes>"
      ]
     },
     "metadata": {
      "needs_background": "light"
     },
     "output_type": "display_data"
    }
   ],
   "source": [
    "# we'll need these to display the gym's output\n",
    "%matplotlib inline\n",
    "from IPython import display\n",
    "import matplotlib\n",
    "import matplotlib.pyplot as plt \n",
    "plt.rcParams['figure.figsize'] = [7.25, 7.25]\n",
    "state = env.reset()\n",
    "plt.imshow(env.render(mode='rgb_array'))\n",
    "env.close()"
   ]
  },
  {
   "cell_type": "code",
   "execution_count": 3,
   "metadata": {},
   "outputs": [
    {
     "name": "stdout",
     "output_type": "stream",
     "text": [
      "0\n"
     ]
    }
   ],
   "source": [
    "print(state)"
   ]
  },
  {
   "cell_type": "markdown",
   "metadata": {
    "slideshow": {
     "slide_type": "slide"
    }
   },
   "source": [
    "# Move to the right"
   ]
  },
  {
   "cell_type": "code",
   "execution_count": 4,
   "metadata": {},
   "outputs": [
    {
     "data": {
      "image/png": "[encoded data removed]",
      "text/plain": [
       "<Figure size 432x288 with 1 Axes>"
      ]
     },
     "metadata": {
      "needs_background": "light"
     },
     "output_type": "display_data"
    }
   ],
   "source": [
    "state, reward, done, info = env.step(gridworld.RIGHT)\n",
    "plt.imshow(env.render(mode='rgb_array'))\n",
    "env.close()"
   ]
  },
  {
   "cell_type": "code",
   "execution_count": 5,
   "metadata": {},
   "outputs": [
    {
     "data": {
      "text/plain": [
       "(1, -0.04)"
      ]
     },
     "execution_count": 5,
     "metadata": {},
     "output_type": "execute_result"
    }
   ],
   "source": [
    "state, reward"
   ]
  },
  {
   "cell_type": "markdown",
   "metadata": {
    "slideshow": {
     "slide_type": "slide"
    }
   },
   "source": [
    "# What's the point? Solving MDPs\n",
    "\n",
    "The goal when solving MDPs is to maximize the expected reward over time. In otherwords,\n",
    "\n",
    "$$\\max_{\\pi} \\mathrm{E}\\left[\\sum_{t=0}^{H} \\gamma^{t} R\\left(S_{t}, A_{t}, S_{t+1}\\right) | \\pi\\right]$$\n",
    "\n",
    "Thus, given and MPD $(S, A, P, R, \\gamma, H)$, our goal is to find the optimal policy $\\pi^*$\n",
    "\n",
    "- Exact Methods:\n",
    "    - **Value iteration**\n",
    "    - Policy iteration"
   ]
  },
  {
   "cell_type": "markdown",
   "metadata": {
    "slideshow": {
     "slide_type": "slide"
    }
   },
   "source": [
    "# The Value function and $V^*$\n",
    "\n",
    "The value function:\n",
    "\n",
    "$$V(s)=\\mathbb{E}\\left[\\sum_{t=0}^{H} \\gamma^{t} R\\left(s_{t}, a_{t}, s_{t+1}\\right), s_{0}=s\\right]$$\n",
    "\n",
    "The optimal value function:\n",
    "\n",
    "$$V^{*}(s)=\\max _{\\pi} \\mathbb{E}\\left[\\sum_{t=0}^{H} \\gamma^{t} R\\left(s_{t}, a_{t}, s_{t+1}\\right) | \\pi, s_{0}=s\\right]$$"
   ]
  },
  {
   "cell_type": "markdown",
   "metadata": {
    "slideshow": {
     "slide_type": "slide"
    }
   },
   "source": [
    "# The Value function and $V^*$\n",
    "\n",
    "In plain english, the optimal value function is the expected value of accumulated rewards from starting in state $s$ and acting optimally from that point forward (and the optimal value function obey's the Bellman equations) Once we have that value function the optimal policy to follow given the agents current state, $\\pi^*(s)$, is simply that action that yields the maximum value for the next step. This is summarized below:\n",
    "\n",
    "$$V^*(s) = R(s) + \\gamma \\underset{a \\in A}{\\text{ max}} \\sum_{s'}P(s,a,s')V^*(s')$$\n",
    "\n",
    "$$\\pi^*(s) = \\underset{a \\in A}{\\text{argmax}}\\sum_{s'}P(s,a,s')V^*(s')$$"
   ]
  },
  {
   "cell_type": "markdown",
   "metadata": {
    "slideshow": {
     "slide_type": "slide"
    }
   },
   "source": [
    "# The Optimal Value Function $V^*$\n",
    "\n",
    "Let's assume that $\\gamma$=0.9 with $H=100$ and fully deterministic actions. Compute $V^*(s)$ for the simple gridworld example for each starting state. Note: each state has a reward of -0.04, the goal state has a reward of +1 and the terminal state has a reward of -1.\n",
    "\n",
    "- $s = (2, 2)$, $V^*(s) =$ ?\n",
    "- $s = (0, 1)$, $V^*(s) =$ ?\n",
    "- $s = (0, 3)$, $V^*(s) =$ ?\n",
    "- $s = (1, 2)$, $V^*(s) =$ ?"
   ]
  },
  {
   "cell_type": "markdown",
   "metadata": {
    "slideshow": {
     "slide_type": "slide"
    }
   },
   "source": [
    "- $s = (2, 2)$, $V^*(s) =$ ?\n",
    "- $s = (0, 1)$, $V^*(s) =$ ?\n",
    "- $s = (0, 3)$, $V^*(s) =$ ?\n",
    "- $s = (1, 2)$, $V^*(s) =$ ?"
   ]
  },
  {
   "cell_type": "code",
   "execution_count": 6,
   "metadata": {},
   "outputs": [
    {
     "data": {
      "image/png": "[encoded data removed]",
      "text/plain": [
       "<Figure size 432x288 with 1 Axes>"
      ]
     },
     "metadata": {
      "needs_background": "light"
     },
     "output_type": "display_data"
    }
   ],
   "source": [
    "state = env.reset()\n",
    "plt.imshow(env.render(mode='rgb_array', show_rewards=True))\n",
    "env.close()"
   ]
  },
  {
   "cell_type": "code",
   "execution_count": null,
   "metadata": {},
   "outputs": [],
   "source": []
  },
  {
   "cell_type": "markdown",
   "metadata": {
    "slideshow": {
     "slide_type": "slide"
    }
   },
   "source": [
    "# The Optimal Value Function $V^*$\n",
    "\n",
    "Let's assume that $\\gamma$=0.9 with $H=100$ and slipper actions (there's an 80% chance that the desired action will result the desired move, and a 10% it will result in a slip to the left or to the right of the desired direction). Compute $V^*(s)$ for the simple gridworld example for each starting state. Note: each state has a reward of -0.04, the goal state has a reward of +1 and the terminal state has a reward of -1.\n",
    "\n",
    "- $s = (2, 2)$, $V^*(s) =$ ?\n",
    "- $s = (0, 1)$, $V^*(s) =$ ?\n",
    "- $s = (0, 3)$, $V^*(s) =$ ?\n",
    "- $s = (1, 2)$, $V^*(s) =$ ?"
   ]
  },
  {
   "cell_type": "markdown",
   "metadata": {
    "slideshow": {
     "slide_type": "slide"
    }
   },
   "source": [
    "- $s = (2, 2)$, $V^*(s) =$ ?\n",
    "- $s = (0, 1)$, $V^*(s) =$ ?\n",
    "- $s = (0, 3)$, $V^*(s) =$ ?\n",
    "- $s = (1, 2)$, $V^*(s) =$ ?"
   ]
  },
  {
   "cell_type": "code",
   "execution_count": 7,
   "metadata": {},
   "outputs": [
    {
     "data": {
      "image/png": "[encoded data removed]",
      "text/plain": [
       "<Figure size 432x288 with 1 Axes>"
      ]
     },
     "metadata": {
      "needs_background": "light"
     },
     "output_type": "display_data"
    }
   ],
   "source": [
    "state = env.reset()\n",
    "plt.imshow(env.render(mode='rgb_array', show_rewards=True))\n",
    "env.close()"
   ]
  },
  {
   "cell_type": "markdown",
   "metadata": {
    "slideshow": {
     "slide_type": "slide"
    }
   },
   "source": [
    "# Value Iteration\n",
    "\n",
    "**function** Value-Iteration($mdp, \\epsilon$) **returns** a value function<br>\n",
    "&emsp; **inputs**: $mdp$, an MDP with states $S$, actions $A$, transition model $P_a(s, s')$, rewards $R(s,a,s')$, discount $\\gamma$<br>\n",
    "&emsp;&emsp;&emsp;&emsp;&emsp;$\\epsilon$, the maximum error allowed in the value function of any state<br>\n",
    "&emsp;**local variables**: $V$, $V'$, vectors of value function for states in $S$, initially zero<br>\n",
    "&emsp;&emsp;&emsp;&emsp;&emsp;&emsp;&emsp;&emsp;&emsp;$\\delta$, the maximum change in the value function of any state in an iteration<br>\n",
    "&emsp;**repeat**<br>\n",
    "&emsp;&emsp;$V \\leftarrow V'; \\delta \\leftarrow 0$<br>\n",
    "&emsp;&emsp;**for each** state $s$ **in** S **do**<br>\n",
    "&emsp;&emsp;&emsp;$V'[s] \\leftarrow R(s) + \\gamma \\underset{a \\in A}{\\text{ max }} \\sum_{s'}P(s, s',a)V[s']$$ $<br>\n",
    "&emsp;&emsp;&emsp;**if** $|V'[s]-V[s]| > \\delta$<br>\n",
    "&emsp;&emsp;&emsp;&emsp;**then** $\\delta \\leftarrow |V'[s]-V[s]|$<br>\n",
    "&emsp;**until** $\\delta < \\epsilon(1 - \\gamma)/\\gamma$<br>\n",
    "&emsp;**return** V"
   ]
  },
  {
   "cell_type": "markdown",
   "metadata": {
    "slideshow": {
     "slide_type": "slide"
    }
   },
   "source": [
    "# Let's see this in action!"
   ]
  },
  {
   "cell_type": "code",
   "execution_count": 8,
   "metadata": {
    "slideshow": {
     "slide_type": "skip"
    }
   },
   "outputs": [],
   "source": [
    "import time\n",
    "\n",
    "GAMMA = 0.999\n",
    "\n",
    "def value_iteration(env, epsilon=0.001, show_values=False):\n",
    "    states = [s for s in range(env.num_states)]\n",
    "    actions = [a for a in range(env.num_actions)]\n",
    "    V1 = {s: 0.0 for s in states}\n",
    "    R, P = env.R, env.P\n",
    "    \n",
    "    if show_values:\n",
    "        img = plt.imshow(env.render(mode='rgb_array', values=V1)) # call this only once\n",
    "    \n",
    "    while True:\n",
    "        V = V1.copy()\n",
    "        if show_values:\n",
    "            img.set_data(env.render(mode='rgb_array', values=V))\n",
    "            display.display(plt.gcf())\n",
    "            display.clear_output(wait=True)\n",
    "            time.sleep(0.5)\n",
    "        delta = 0\n",
    "        for s in states:\n",
    "            V1[s] = R(s) + GAMMA * max(sum(p * V1[s_prime] for (p, s_prime, done) in P(s, a)) for a in actions)\n",
    "            delta = max(delta, abs(V1[s] - V[s]))\n",
    "\n",
    "        if delta <= epsilon * (1 - GAMMA) / GAMMA:\n",
    "            return V"
   ]
  },
  {
   "cell_type": "code",
   "execution_count": 9,
   "metadata": {
    "slideshow": {
     "slide_type": "-"
    }
   },
   "outputs": [
    {
     "data": {
      "image/png": "[encoded data removed]",
      "text/plain": [
       "<Figure size 432x288 with 1 Axes>"
      ]
     },
     "metadata": {
      "needs_background": "light"
     },
     "output_type": "display_data"
    }
   ],
   "source": [
    "value_iteration(env, show_values=True)\n",
    "env.close()"
   ]
  },
  {
   "cell_type": "markdown",
   "metadata": {
    "slideshow": {
     "slide_type": "slide"
    }
   },
   "source": [
    "# Q-Values\n",
    "\n",
    "There's another way to solve MDPs. Instead of simply learning a value (or utility) function, we can learn an expected utility for an agent that starts in state $s$ and takes an action $a$, and thereafter acts optimally. This is called a Q-value or an action-utility, $Q(s,a)$, and must also satisfy the following Bellman equation:\n",
    "\n",
    "$$Q^*(s,a)= R(s) + \\gamma \\sum_{s'}P(s,a,s') \\underset{a' \\in A}{\\text{ max }} Q^*(s',a')$$\n",
    "\n",
    "with Q-Values directly related to utility values as follows:\n",
    "\n",
    "$$V(s) = \\underset{a \\in A}{\\text{ max }}Q(s,a)$$"
   ]
  },
  {
   "cell_type": "markdown",
   "metadata": {
    "slideshow": {
     "slide_type": "slide"
    }
   },
   "source": [
    "# Q-Value Iteration\n",
    "\n",
    "So what would Q-Value Iteration look like?\n",
    "\n",
    "$$Q'[s,a] \\leftarrow R(s) + \\gamma \\sum_{s'}P(s, s',a)\\underset{a' \\in A}{\\text{ max }}Q[s', a']$$ \n"
   ]
  },
  {
   "cell_type": "code",
   "execution_count": 10,
   "metadata": {
    "slideshow": {
     "slide_type": "skip"
    }
   },
   "outputs": [],
   "source": [
    "import copy\n",
    "\n",
    "def q_value_iteration(env, epsilon=0.001):\n",
    "    states = [s for s in range(env.num_states)]\n",
    "    actions = [a for a in range(env.num_actions)]\n",
    "    Q1 = {s: {a: 0.0 for a in actions} for s in states}\n",
    "    R, P = env.R, env.P\n",
    "\n",
    "    while True:\n",
    "        Q = copy.deepcopy(Q1)\n",
    "        delta = 0\n",
    "        for s in states:\n",
    "            for a in actions:\n",
    "                # Q1[s] = R(s) + GAMMA * max(sum(p * V1[s_prime] for (p, s_prime, done) in P(s, a)) for a in actions)\n",
    "                Q1[s][a] = R(s) + GAMMA * sum(p*max(Q1[s_prime][a_prime] for a_prime in actions) for (p, s_prime, done) in P(s,a))\n",
    "                delta = max(delta, abs(Q1[s][a] - Q[s][a]))\n",
    "\n",
    "        if delta <= epsilon * (1 - GAMMA) / GAMMA:\n",
    "            return Q"
   ]
  },
  {
   "cell_type": "code",
   "execution_count": 11,
   "metadata": {},
   "outputs": [
    {
     "data": {
      "text/plain": [
       "{0: 0.8362458360409998,\n",
       " 1: -1.039,\n",
       " 2: 0.9180409999999999,\n",
       " 3: 0.8771229589999998}"
      ]
     },
     "execution_count": 11,
     "metadata": {},
     "output_type": "execute_result"
    }
   ],
   "source": [
    "q_value_iteration(env)[6]"
   ]
  },
  {
   "cell_type": "code",
   "execution_count": 12,
   "metadata": {},
   "outputs": [
    {
     "data": {
      "text/plain": [
       "0.9180409999999999"
      ]
     },
     "execution_count": 12,
     "metadata": {},
     "output_type": "execute_result"
    }
   ],
   "source": [
    "value_iteration(env)[6]"
   ]
  },
  {
   "cell_type": "markdown",
   "metadata": {
    "slideshow": {
     "slide_type": "slide"
    }
   },
   "source": [
    "# What's the point? Solving MDPs\n",
    "\n",
    "The goal when solving MDPs is to maximize the expected reward over time. In otherwords,\n",
    "\n",
    "$$\\max_{\\pi} \\mathrm{E}\\left[\\sum_{t=0}^{H} \\gamma^{t} R\\left(S_{t}, A_{t}, S_{t+1}\\right) | \\pi\\right]$$\n",
    "\n",
    "Thus, given and MPD $(S, A, P, R, \\gamma, H)$, our goal is to find the optimal policy $\\pi^*$\n",
    "\n",
    "- Exact Methods:\n",
    "    - Value iteration\n",
    "    - **Policy iteration**"
   ]
  },
  {
   "cell_type": "markdown",
   "metadata": {},
   "source": [
    "# Policy Iteration\n",
    "\n",
    "Aside from value iteration, there is a second commonly used algorithm for finding an optimal policy. It calculates both the optimal policy and the value function for all states simultaneously. The **policy iteration** algorithm alternates between **policy evaluation** (given a policy $\\pi_i$ for iteration $i$, calculate the value function $V_i = V^{\\pi_i}$ : the value function of each state if policy $\\pi_i$ were to be executed) and **policy improvement** (calculate a new maximum expected value function policy $\\pi_{i+1}$ using one-step look ahead based on $V_i$.\n",
    "\n",
    "The algorithm is as follows:\n",
    "\n",
    "**function** Policy-Iteration($mdp$) **returns** a policy<br>\n",
    "&emsp; **inputs**: $mdp$, and MDP with states $S$, actions $A$, transition model $P(s,a,s')$, rewards $R(s)$, discount $\\gamma$<br>\n",
    "&emsp;**local variables**: $V$, a vector of value function values for states in $S$, initially zero<br>\n",
    "&emsp;&emsp;&emsp;&emsp;&emsp;&emsp;&emsp;&emsp;&emsp;$\\pi$, a policy vector indexed by state, intially random<br>\n",
    "&emsp;**repeat**<br>\n",
    "&emsp;&emsp;$V \\leftarrow \\text{Policy-Evaluation}(\\pi, V, mdp)$<br>\n",
    "&emsp;&emsp;$unchanged? \\leftarrow \\text{true}$<br>\n",
    "&emsp;&emsp;**for each** state $s$ **in** S **do**<br>\n",
    "&emsp;&emsp;&emsp;**if** $\\underset{a \\in A}{\\text{ max}} \\sum_{s'}P(s,a,s')V[s'] > \\sum_{s'}P(s,\\pi(s),s')V[s']$ **then do**<br>\n",
    "&emsp;&emsp;&emsp;&emsp;$\\pi[s] \\leftarrow \\underset{a \\in A}{\\text{argmax}}\\sum_{s'}P(s,a,s')V(s')$<br>\n",
    "&emsp;&emsp;&emsp;&emsp;$unchanged? \\leftarrow \\text{false}$<br>\n",
    "&emsp;**until** $unchanged?$<br>\n",
    "&emsp;**return** $\\pi$\n",
    "\n",
    "Note: that the policy evaluation step can be done via solving a simplified version of the Bellman equations directly. The intuition is as follows: this is much simpler because the action at each state is fixed by the policy. At the $i$-th iteration, the policy $\\pi_i$ specifies the action $\\pi_i(s)$ in state $s$. Therefore, the simplified Bellman equation for the value function is:\n",
    "\n",
    "$$V_i(s)=R(s)+ \\gamma \\sum_{s'}P(s,\\pi_i(s),s')V_i(s')$$\n",
    "\n",
    "This insight allows us to write a system of linear equations. Thus for $n$ states we will have $n$ linear equations with $n$ unknowns, which can be solved using standard linear algebra methods.\n",
    "\n",
    "For small state spaces, policy evaluation is often very fast and typically converges with very few iterations. However, for MDPs with large state spaces, value iteration will be preferred, since solving a large system of linear equations is difficult. Thus, in practice, value iteration is typically preferred.\n"
   ]
  },
  {
   "cell_type": "markdown",
   "metadata": {
    "slideshow": {
     "slide_type": "slide"
    }
   },
   "source": [
    "# Lab 1 - Implementation of Policy Iteration on Gridworlds\n",
    "\n",
    "Congratulations! You've made is to the end of the first session. Your task now is to implement Policy iteration for the GridWorld environments used in the examples in today's session."
   ]
  },
  {
   "cell_type": "code",
   "execution_count": null,
   "metadata": {},
   "outputs": [],
   "source": []
  }
 ],
 "metadata": {
  "celltoolbar": "Slideshow",
  "kernelspec": {
   "display_name": "Python 3",
   "language": "python",
   "name": "python3"
  },
  "language_info": {
   "codemirror_mode": {
    "name": "ipython",
    "version": 3
   },
   "file_extension": ".py",
   "mimetype": "text/x-python",
   "name": "python",
   "nbconvert_exporter": "python",
   "pygments_lexer": "ipython3",
   "version": "3.6.8"
  },
  "rise": {
   "enable_chalkboard": true,
   "footer": "<h4>Florida International University - School of Computing and Information Sciences</h4>",
   "header": "<h2>Deep RL Bootcamp - 2019</h2>",
   "theme": "simple"
  }
 },
 "nbformat": 4,
 "nbformat_minor": 2
}
